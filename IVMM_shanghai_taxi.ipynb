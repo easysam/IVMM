{
 "cells": [
  {
   "cell_type": "code",
   "execution_count": 68,
   "metadata": {},
   "outputs": [],
   "source": [
    "import os\n",
    "import pathlib\n",
    "import osmnx as ox\n",
    "import pickle\n",
    "import candidates_preparation\n",
    "import IVMM\n",
    "import pandas as pd\n",
    "from utils.vector_haversine_distances import haversine_np"
   ]
  },
  {
   "cell_type": "code",
   "execution_count": 33,
   "metadata": {},
   "outputs": [
    {
     "name": "stdout",
     "output_type": "stream",
     "text": [
      "Wall time: 37.5 s\n"
     ]
    }
   ],
   "source": [
    "%%time\n",
    "# fetch road graph from openstreetmap using osmnx\n",
    "# and save it to local file\n",
    "# road_network = ox.graph_from_place(\"Shanghai, China\", network_type='drive', which_result=2)\n",
    "# ox.io.save_graphml(city, filepath='db/shanghai-drive-20200902.gml', gephi=False, encoding='utf-8')\n",
    "# ox.plot_graph(road_network)\n",
    "# load shanghai road network graphml file\n",
    "road_network = ox.load_graphml('db/shanghai-drive-20200902.gml')\n",
    "\n",
    "edges = ox.utils_graph.graph_to_gdfs(road_network, nodes=False, fill_edge_geometry=True)\n",
    "edges.drop(columns=['osmid', 'highway', 'bridge', 'name', 'key'], inplace=True)\n",
    "\n",
    "# extended = candidates_preparation.extended_edges(edges)\n",
    "# with open('db/shenzhen_drive_edges_extend.pkl', 'wb') as f:\n",
    "#     pickle.dump(extended, f)\n",
    "## extended edges is created by above code segment\n",
    "with open('db/shanghai_drive_edges_extend.pkl', 'rb') as f:\n",
    "    extended = pickle.load(f)\n",
    "\n",
    "# tree = candidates_preparation.make_tree(extended)\n",
    "# with open('db/shenzhen_drive_extended_edges_tree.pkl', 'wb') as f:\n",
    "#     pickle.dump(tree, f)\n",
    "## tree is created by above code segment\n",
    "with open('db/shanghai_drive_extended_edges_tree.pkl', 'rb') as f:\n",
    "    tree = pickle.load(f)\n",
    "\n",
    "# The data_list is all files to be processed\n",
    "db_path = 'db/shanghai/Taxi_070220'\n",
    "data_list = sorted(os.listdir(db_path))\n",
    "\n",
    "pathlib.Path('result/shanghai/road_path').mkdir(parents=True, exist_ok=True)"
   ]
  },
  {
   "cell_type": "code",
   "execution_count": 49,
   "metadata": {},
   "outputs": [],
   "source": [
    "# for i th trajectory file\n",
    "file_path = os.path.join(db_path, data_list[0])\n",
    "trajectory = pd.read_csv(file_path, header=None, names=['plate', 'timestamp', 'longitude', 'latitude', 'speed', 'direction', 'status'], parse_dates=['timestamp'])\n",
    "trajectory['dis_f_pre'] = haversine_np(trajectory['longitude'], trajectory['latitude'], trajectory['longitude'].shift(), trajectory['latitude'].shift())"
   ]
  },
  {
   "cell_type": "code",
   "execution_count": 70,
   "metadata": {},
   "outputs": [
    {
     "name": "stdout",
     "output_type": "stream",
     "text": [
      "Wall time: 1min 51s\n"
     ]
    }
   ],
   "source": [
    "%%time\n",
    "# processs a task\n",
    "IVMM.IVMM(trajectory, road_network, edges, extended, tree, res_path='result/shanghai/road_path', seg_name=data_list[0])"
   ]
  }
 ],
 "metadata": {
  "kernelspec": {
   "display_name": "Python (ox)",
   "language": "python",
   "name": "et"
  },
  "language_info": {
   "codemirror_mode": {
    "name": "ipython",
    "version": 3
   },
   "file_extension": ".py",
   "mimetype": "text/x-python",
   "name": "python",
   "nbconvert_exporter": "python",
   "pygments_lexer": "ipython3",
   "version": "3.8.5"
  }
 },
 "nbformat": 4,
 "nbformat_minor": 4
}
